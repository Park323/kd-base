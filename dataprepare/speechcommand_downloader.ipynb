{
 "cells": [
  {
   "cell_type": "code",
   "execution_count": 15,
   "metadata": {},
   "outputs": [],
   "source": [
    "import os\n",
    "from torch.hub import download_url_to_file\n",
    "from torchaudio.datasets.utils import _load_waveform, extract_archive"
   ]
  },
  {
   "attachments": {},
   "cell_type": "markdown",
   "metadata": {},
   "source": [
    "### speech_commands_v0.02"
   ]
  },
  {
   "cell_type": "code",
   "execution_count": 23,
   "metadata": {},
   "outputs": [],
   "source": [
    "FOLDER_IN_ARCHIVE = \"SpeechCommands\"\n",
    "URL = \"speech_commands_v0.02\"\n",
    "HASH_DIVIDER = \"_nohash_\"\n",
    "EXCEPT_FOLDER = \"_background_noise_\"\n",
    "SAMPLE_RATE = 16000\n",
    "_CHECKSUMS = {\n",
    "    \"http://download.tensorflow.org/data/speech_commands_v0.01.tar.gz\": \"743935421bb51cccdb6bdd152e04c5c70274e935c82119ad7faeec31780d811d\",  # noqa: E501\n",
    "    \"http://download.tensorflow.org/data/speech_commands_v0.02.tar.gz\": \"af14739ee7dc311471de98f5f9d2c9191b18aedfe957f4a6ff791c709868ff58\",  # noqa: E501\n",
    "}"
   ]
  },
  {
   "cell_type": "code",
   "execution_count": 30,
   "metadata": {},
   "outputs": [],
   "source": [
    "subset = \"training\"\n",
    "url = URL\n",
    "root = '../data'\n",
    "folder_in_archive = FOLDER_IN_ARCHIVE"
   ]
  },
  {
   "cell_type": "code",
   "execution_count": 31,
   "metadata": {},
   "outputs": [],
   "source": [
    "if url in [\n",
    "    \"speech_commands_v0.01\",\n",
    "    \"speech_commands_v0.02\",\n",
    "]:\n",
    "    base_url = \"http://download.tensorflow.org/data/\"\n",
    "    ext_archive = \".tar.gz\"\n",
    "\n",
    "    url = os.path.join(base_url, url + ext_archive)"
   ]
  },
  {
   "cell_type": "code",
   "execution_count": 32,
   "metadata": {},
   "outputs": [
    {
     "name": "stdout",
     "output_type": "stream",
     "text": [
      "../data/SpeechCommands/speech_commands_v0.02\n",
      "../data/speech_commands_v0.02.tar.gz\n",
      "http://download.tensorflow.org/data/speech_commands_v0.02.tar.gz\n"
     ]
    }
   ],
   "source": [
    "root = os.fspath(root)\n",
    "_archive = os.path.join(root, folder_in_archive)\n",
    "basename = os.path.basename(url)\n",
    "archive = os.path.join(root, basename)\n",
    "basename = basename.rsplit(\".\", 2)[0]\n",
    "folder_in_archive = os.path.join(folder_in_archive, basename)\n",
    "_path = os.path.join(root, folder_in_archive)\n",
    "print(_path)\n",
    "print(archive)\n",
    "print(url)"
   ]
  },
  {
   "attachments": {},
   "cell_type": "markdown",
   "metadata": {},
   "source": [
    "### download"
   ]
  },
  {
   "cell_type": "code",
   "execution_count": 33,
   "metadata": {},
   "outputs": [
    {
     "data": {
      "application/vnd.jupyter.widget-view+json": {
       "model_id": "0a7161e992084fd4ae0676922669747b",
       "version_major": 2,
       "version_minor": 0
      },
      "text/plain": [
       "  0%|          | 0.00/2.26G [00:00<?, ?B/s]"
      ]
     },
     "metadata": {},
     "output_type": "display_data"
    }
   ],
   "source": [
    "if not os.path.isdir(_path):\n",
    "    if not os.path.isfile(archive):\n",
    "        checksum = _CHECKSUMS.get(url, None)\n",
    "        download_url_to_file(url, archive, hash_prefix=checksum)\n",
    "    extract_archive(archive, _path)"
   ]
  },
  {
   "attachments": {},
   "cell_type": "markdown",
   "metadata": {},
   "source": [
    "### speech commands_v0.01"
   ]
  },
  {
   "cell_type": "code",
   "execution_count": 42,
   "metadata": {},
   "outputs": [],
   "source": [
    "URL = \"speech_commands_v0.01\"\n",
    "url = URL\n",
    "folder_in_archive = FOLDER_IN_ARCHIVE"
   ]
  },
  {
   "cell_type": "code",
   "execution_count": 43,
   "metadata": {},
   "outputs": [],
   "source": [
    "if url in [\n",
    "    \"speech_commands_v0.01\",\n",
    "    \"speech_commands_v0.02\",\n",
    "]:\n",
    "    base_url = \"http://download.tensorflow.org/data/\"\n",
    "    ext_archive = \".tar.gz\"\n",
    "\n",
    "    url = os.path.join(base_url, url + ext_archive)"
   ]
  },
  {
   "cell_type": "code",
   "execution_count": 44,
   "metadata": {},
   "outputs": [
    {
     "name": "stdout",
     "output_type": "stream",
     "text": [
      "speech_commands_v0.01\n",
      "SpeechCommands/speech_commands_v0.01\n",
      "../data\n",
      "../data/SpeechCommands/speech_commands_v0.01\n",
      "../data/speech_commands_v0.01.tar.gz\n",
      "http://download.tensorflow.org/data/speech_commands_v0.01.tar.gz\n"
     ]
    }
   ],
   "source": [
    "root = os.fspath(root)\n",
    "_archive = os.path.join(root, folder_in_archive)\n",
    "basename = os.path.basename(url)\n",
    "archive = os.path.join(root, basename)\n",
    "basename = basename.rsplit(\".\", 2)[0]\n",
    "folder_in_archive = os.path.join(folder_in_archive, basename)\n",
    "_path = os.path.join(root, folder_in_archive)"
   ]
  },
  {
   "cell_type": "code",
   "execution_count": 38,
   "metadata": {},
   "outputs": [
    {
     "data": {
      "application/vnd.jupyter.widget-view+json": {
       "model_id": "3c5c358e92084949b730874500787a65",
       "version_major": 2,
       "version_minor": 0
      },
      "text/plain": [
       "  0%|          | 0.00/1.39G [00:00<?, ?B/s]"
      ]
     },
     "metadata": {},
     "output_type": "display_data"
    }
   ],
   "source": [
    "if not os.path.isdir(_path):\n",
    "    if not os.path.isfile(archive):\n",
    "        checksum = _CHECKSUMS.get(url, None)\n",
    "        download_url_to_file(url, archive, hash_prefix=checksum)\n",
    "    extract_archive(archive, _path)"
   ]
  },
  {
   "cell_type": "code",
   "execution_count": null,
   "metadata": {},
   "outputs": [],
   "source": []
  }
 ],
 "metadata": {
  "kernelspec": {
   "display_name": "speaker",
   "language": "python",
   "name": "python3"
  },
  "language_info": {
   "codemirror_mode": {
    "name": "ipython",
    "version": 3
   },
   "file_extension": ".py",
   "mimetype": "text/x-python",
   "name": "python",
   "nbconvert_exporter": "python",
   "pygments_lexer": "ipython3",
   "version": "3.10.8"
  },
  "orig_nbformat": 4,
  "vscode": {
   "interpreter": {
    "hash": "a3c2f5d5590c400d559c6813990aebc45304a5583bdf517d3b13fa16e1f144d2"
   }
  }
 },
 "nbformat": 4,
 "nbformat_minor": 2
}
