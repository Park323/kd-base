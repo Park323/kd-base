{
 "cells": [
  {
   "cell_type": "code",
   "execution_count": 1,
   "metadata": {},
   "outputs": [
    {
     "name": "stderr",
     "output_type": "stream",
     "text": [
      "/home/jeonko/anaconda3/envs/kd/lib/python3.10/site-packages/tqdm/auto.py:21: TqdmWarning: IProgress not found. Please update jupyter and ipywidgets. See https://ipywidgets.readthedocs.io/en/stable/user_install.html\n",
      "  from .autonotebook import tqdm as notebook_tqdm\n"
     ]
    }
   ],
   "source": [
    "import glob\n",
    "import torch"
   ]
  },
  {
   "cell_type": "code",
   "execution_count": 2,
   "metadata": {},
   "outputs": [],
   "source": [
    "ckpts = glob.glob(\"checkpoint/original/*\")"
   ]
  },
  {
   "cell_type": "code",
   "execution_count": 14,
   "metadata": {},
   "outputs": [
    {
     "data": {
      "text/plain": [
       "tensor([[ 0.0158,  0.0048,  0.0052,  ...,  0.0177, -0.0046,  0.0013],\n",
       "        [-0.0146,  0.0079, -0.0014,  ...,  0.0339,  0.0167, -0.0069],\n",
       "        [ 0.0418, -0.0123, -0.0075,  ...,  0.0001,  0.0143, -0.0308],\n",
       "        ...,\n",
       "        [ 0.0094,  0.0029, -0.0014,  ...,  0.0261,  0.0059, -0.0061],\n",
       "        [-0.0025, -0.0020,  0.0014,  ..., -0.0043,  0.0014, -0.0017],\n",
       "        [ 0.0125,  0.0029, -0.0014,  ...,  0.0126,  0.0069,  0.0011]],\n",
       "       device='cuda:0')"
      ]
     },
     "execution_count": 14,
     "metadata": {},
     "output_type": "execute_result"
    }
   ],
   "source": [
    "torch.load(\"checkpoint/original/HTSAT_ESC_exp=1_fold=0_acc=0.970.ckpt\")['state_dict']['sed_model.layers.0.blocks.0.attn.proj.weight']"
   ]
  },
  {
   "cell_type": "code",
   "execution_count": 15,
   "metadata": {},
   "outputs": [
    {
     "data": {
      "text/plain": [
       "tensor([[ 0.0224, -0.0055, -0.0010,  ...,  0.0098,  0.0040, -0.0108],\n",
       "        [-0.0005, -0.0012,  0.0004,  ...,  0.0060,  0.0383, -0.0156],\n",
       "        [ 0.0118,  0.0011, -0.0069,  ..., -0.0240,  0.0074, -0.0146],\n",
       "        ...,\n",
       "        [-0.0007,  0.0016, -0.0066,  ...,  0.0387, -0.0258, -0.0259],\n",
       "        [ 0.0079, -0.0018,  0.0265,  ...,  0.0392,  0.0266, -0.0152],\n",
       "        [ 0.0041,  0.0040, -0.0007,  ...,  0.0085,  0.0165, -0.0014]])"
      ]
     },
     "execution_count": 15,
     "metadata": {},
     "output_type": "execute_result"
    }
   ],
   "source": [
    "torch.load(\"checkpoint/original/HTSAT_AudioSet_Saved_1.ckpt\")['state_dict']['sed_model.layers.0.blocks.0.attn.proj.weight']"
   ]
  },
  {
   "cell_type": "code",
   "execution_count": 53,
   "metadata": {},
   "outputs": [],
   "source": [
    "for ckpt_path in ckpts:\n",
    "    ckpt = torch.load(ckpt_path)\n",
    "    \n",
    "    new_states = {}\n",
    "    states = ckpt['state_dict']\n",
    "    for key, value in states.items():\n",
    "        new_states[key.replace(\"sed_model\", \"model\")] = value\n",
    "    \n",
    "    ckpt['state_dict'] = new_states\n",
    "    torch.save(ckpt['state_dict'], ckpt_path.replace(\"original/\", \"\"))"
   ]
  },
  {
   "cell_type": "code",
   "execution_count": 54,
   "metadata": {},
   "outputs": [
    {
     "data": {
      "text/plain": [
       "dict_keys(['state_dict'])"
      ]
     },
     "execution_count": 54,
     "metadata": {},
     "output_type": "execute_result"
    }
   ],
   "source": [
    "ckpt.keys()"
   ]
  },
  {
   "cell_type": "code",
   "execution_count": 39,
   "metadata": {},
   "outputs": [
    {
     "data": {
      "text/plain": [
       "dict_keys(['epoch', 'global_step', 'pytorch-lightning_version', 'state_dict', 'callbacks', 'optimizer_states', 'lr_schedulers'])"
      ]
     },
     "execution_count": 39,
     "metadata": {},
     "output_type": "execute_result"
    }
   ],
   "source": [
    "torch.load(ckpts[7]).keys()"
   ]
  }
 ],
 "metadata": {
  "kernelspec": {
   "display_name": "Python 3",
   "language": "python",
   "name": "python3"
  },
  "language_info": {
   "codemirror_mode": {
    "name": "ipython",
    "version": 3
   },
   "file_extension": ".py",
   "mimetype": "text/x-python",
   "name": "python",
   "nbconvert_exporter": "python",
   "pygments_lexer": "ipython3",
   "version": "3.10.9"
  },
  "orig_nbformat": 4,
  "vscode": {
   "interpreter": {
    "hash": "82c08bb46d497a21fad771a34ee01803ef0140174f9564ef95d40f1b74844805"
   }
  }
 },
 "nbformat": 4,
 "nbformat_minor": 2
}
